{
 "cells": [
  {
   "cell_type": "markdown",
   "metadata": {},
   "source": [
    "<center>\n",
    "    <img src=\"https://s3-api.us-geo.objectstorage.softlayer.net/cf-courses-data/CognitiveClass/Logos/organization_logo/organization_logo.png\" width=\"300\" alt=\"cognitiveclass.ai logo\"  />\n",
    "</center>\n"
   ]
  },
  {
   "cell_type": "markdown",
   "metadata": {},
   "source": [
    "**_My Jupyter Notebook on IBM Watson Studio_**"
   ]
  },
  {
   "cell_type": "markdown",
   "metadata": {},
   "source": [
    "__Daisy A. Arais__\n",
    "\n",
    "Aspiring Data Analyst"
   ]
  },
  {
   "cell_type": "markdown",
   "metadata": {},
   "source": [
    "_I am interested in Data Science because I want to broaden my knowledge on data, on how to manipulate, process and analyze it to come up with a certain insights._"
   ]
  },
  {
   "cell_type": "markdown",
   "metadata": {},
   "source": [
    "##multiply numbers and print the product"
   ]
  },
  {
   "cell_type": "code",
   "execution_count": 2,
   "metadata": {},
   "outputs": [
    {
     "name": "stdout",
     "output_type": "stream",
     "text": [
      "The product is  25\n"
     ]
    }
   ],
   "source": [
    "number=5*5\n",
    "print('The product is ', number)"
   ]
  },
  {
   "cell_type": "markdown",
   "metadata": {},
   "source": [
    "\n",
    "\n",
    "\n",
    "\n",
    "\n",
    "__Vegetables__\n",
    "* carrots\n",
    "* cabbage\n",
    "* potato\n",
    "\n",
    "\n",
    "|Vegetables |Prices|\n",
    "|:--------- |:-----|\n",
    "|carrots    |20    |\n",
    "|cabbage    |30    |\n",
    "|potato     |50    |\n",
    "\n",
    "\n",
    ">*Price varies every minute depending on the demand of vegetable.*"
   ]
  },
  {
   "cell_type": "code",
   "execution_count": null,
   "metadata": {},
   "outputs": [],
   "source": []
  }
 ],
 "metadata": {
  "kernelspec": {
   "display_name": "Python",
   "language": "python",
   "name": "conda-env-python-py"
  },
  "language_info": {
   "codemirror_mode": {
    "name": "ipython",
    "version": 3
   },
   "file_extension": ".py",
   "mimetype": "text/x-python",
   "name": "python",
   "nbconvert_exporter": "python",
   "pygments_lexer": "ipython3",
   "version": "3.7.12"
  }
 },
 "nbformat": 4,
 "nbformat_minor": 4
}
